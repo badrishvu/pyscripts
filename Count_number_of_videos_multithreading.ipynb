{
 "cells": [
  {
   "cell_type": "code",
   "execution_count": 2,
   "id": "fed4e48b",
   "metadata": {},
   "outputs": [
    {
     "name": "stderr",
     "output_type": "stream",
     "text": [
      "Processing URLs: 100%|██████████████████████| 802/802 [00:00<00:00, 4364.18it/s]\n"
     ]
    },
    {
     "name": "stdout",
     "output_type": "stream",
     "text": [
      "URL 'https://www.clearedjobs.net' returned a '403 Forbidden' status code. Skipping.\n",
      "Failed to fetch the URL 'https://www.diamondchallenge.org'. Status code: 406\n",
      "URL 'https://www.aaregistry.org' returned a '403 Forbidden' status code. Skipping.\n",
      "URL 'https://www.acstechnologies.com' returned a '403 Forbidden' status code. Skipping.\n",
      "An error occurred while processing the URL 'https://www.naacpldf.org': HTTPSConnectionPool(host='www.naacpldf.org', port=443): Max retries exceeded with url: / (Caused by SSLError(SSLCertVerificationError(1, '[SSL: CERTIFICATE_VERIFY_FAILED] certificate verify failed: unable to get local issuer certificate (_ssl.c:1129)')))\n",
      "URL 'https://www.werner.com' returned a '403 Forbidden' status code. Skipping.\n",
      "URL 'https://www.art21.org' returned a '403 Forbidden' status code. Skipping.\n",
      "URL 'https://www.callnorthwest.com' returned a '403 Forbidden' status code. Skipping.\n",
      "URL 'https://www.hidglobal.com' returned a '403 Forbidden' status code. Skipping.\n",
      "URL 'https://www.koa.com' returned a '403 Forbidden' status code. Skipping.\n",
      "URL 'https://www.coinbase.com' returned a '403 Forbidden' status code. Skipping.\n",
      "URL 'https://www.focusforwardfilms.com' returned a '403 Forbidden' status code. Skipping.\n",
      "URL 'https://www.gorhamandassociates.com' returned a '403 Forbidden' status code. Skipping.\n",
      "Failed to fetch the URL 'https://www.hollandlawfirm.com'. Status code: 406\n",
      "URL 'https://www.ableroof.com' returned a '403 Forbidden' status code. Skipping.\n",
      "An error occurred while processing the URL 'https://www.beatthestreets-la.org': HTTPSConnectionPool(host='www.beatthestreets-la.org', port=443): Max retries exceeded with url: / (Caused by SSLError(CertificateError(\"hostname 'www.beatthestreets-la.org' doesn't match either of 'beatthestreets-la.org', 'btsla.org'\")))\n",
      "URL 'https://www.asingletrackmind.com' returned a '403 Forbidden' status code. Skipping.\n",
      "Failed to fetch the URL 'https://www.globespancapital.com'. Status code: 406\n",
      "URL 'https://www.avance-emb.com' returned a '403 Forbidden' status code. Skipping.\n",
      "URL 'https://www.greenwoodsilo.com' returned a '403 Forbidden' status code. Skipping.\n",
      "URL 'https://www.convergerockymountain.org' returned a '403 Forbidden' status code. Skipping.\n",
      "URL 'https://www.alsburydental.com' returned a '403 Forbidden' status code. Skipping.\n",
      "URL 'https://www.dtgprintermachine.com' returned a '403 Forbidden' status code. Skipping.\n",
      "An error occurred while processing the URL 'https://www.talive.com': HTTPSConnectionPool(host='www.talive.com', port=443): Max retries exceeded with url: / (Caused by NewConnectionError('<urllib3.connection.HTTPSConnection object at 0x7fe96855cdc0>: Failed to establish a new connection: [Errno 8] nodename nor servname provided, or not known'))\n",
      "URL 'https://www.ideasonpurpose.com' returned a '403 Forbidden' status code. Skipping.\n",
      "An error occurred while processing the URL 'https://www.brigantinenow.com': HTTPSConnectionPool(host='www.brigantinenow.com', port=443): Max retries exceeded with url: / (Caused by SSLError(CertificateError(\"hostname 'www.brigantinenow.com' doesn't match 'brigantinenow.com'\")))\n",
      "URL 'https://www.benchmark.us' returned a '403 Forbidden' status code. Skipping.\n",
      "An error occurred while processing the URL 'https://www.downtowndentalla.com': HTTPConnectionPool(host='no.access', port=80): Max retries exceeded with url: / (Caused by NewConnectionError('<urllib3.connection.HTTPConnection object at 0x7fe98a853a60>: Failed to establish a new connection: [Errno 8] nodename nor servname provided, or not known'))\n",
      "URL 'https://www.berkone.com' returned a '403 Forbidden' status code. Skipping.\n",
      "URL 'https://www.tamcom.com' returned a '403 Forbidden' status code. Skipping.\n",
      "URL 'https://www.ddpalaw.com' returned a '403 Forbidden' status code. Skipping.\n",
      "Timeout occurred while processing the URL 'https://www.portfoliorecovery.com'. Skipping.\n",
      "URL 'https://www.srsacquiom.com' returned a '403 Forbidden' status code. Skipping.\n",
      "URL 'https://www.promusventures.com' returned a '403 Forbidden' status code. Skipping.\n",
      "Timeout occurred while processing the URL 'https://www.epb.com'. Skipping.\n",
      "URL 'https://www.futureofstorytelling.org' returned a '403 Forbidden' status code. Skipping.\n",
      "URL 'https://www.bretonvet.com' returned a '403 Forbidden' status code. Skipping.\n",
      "An error occurred while processing the URL 'https://www.backpackbillboards.com': HTTPSConnectionPool(host='www.backpackbillboards.com', port=443): Max retries exceeded with url: / (Caused by SSLError(CertificateError(\"hostname 'www.backpackbillboards.com' doesn't match either of '*.wpengine.com', 'wpengine.com'\")))\n",
      "URL 'https://www.aplusprogram.com' returned a '403 Forbidden' status code. Skipping.\n",
      "URL 'https://www.centricap.com' returned a '403 Forbidden' status code. Skipping.\n",
      "URL 'https://www.humanityrising.org' returned a '403 Forbidden' status code. Skipping.\n",
      "URL 'https://www.abrahamsrugs.com' returned a '403 Forbidden' status code. Skipping.\n",
      "Failed to fetch the URL 'https://www.allfloorstore.com'. Status code: 503\n",
      "URL 'https://www.blockotoole.com' returned a '403 Forbidden' status code. Skipping.\n",
      "URL 'https://www.crosscreekanimalhospital.com' returned a '403 Forbidden' status code. Skipping.\n",
      "URL 'https://www.chemtrend.com' returned a '403 Forbidden' status code. Skipping.\n",
      "An error occurred while processing the URL 'https://www.cia.edu': HTTPSConnectionPool(host='www.cia.edu', port=443): Max retries exceeded with url: / (Caused by NewConnectionError('<urllib3.connection.HTTPSConnection object at 0x7fe98a861730>: Failed to establish a new connection: [Errno 61] Connection refused'))\n",
      "URL 'https://www.bivenscove.com' returned a '403 Forbidden' status code. Skipping.\n",
      "An error occurred while processing the URL 'https://www.3qmp.com': HTTPSConnectionPool(host='www.3qmp.com', port=443): Max retries exceeded with url: / (Caused by SSLError(CertificateError(\"hostname 'www.3qmp.com' doesn't match 'webflow.io'\")))\n",
      "URL 'https://www.brennanclark.com' returned a '403 Forbidden' status code. Skipping.\n",
      "URL 'https://www.drelimayer.com' returned a '403 Forbidden' status code. Skipping.\n",
      "URL 'https://www.baxterst.org' returned a '403 Forbidden' status code. Skipping.\n",
      "URL 'https://www.compassdatacenters.com' returned a '403 Forbidden' status code. Skipping.\n",
      "URL 'https://www.adamsstation.com' returned a '403 Forbidden' status code. Skipping.\n",
      "URL 'https://www.allcitydental.com' returned a '403 Forbidden' status code. Skipping.\n",
      "An error occurred while processing the URL 'https://www.cincymls.com': HTTPSConnectionPool(host='www.cincymls.com', port=443): Max retries exceeded with url: / (Caused by SSLError(CertificateError(\"hostname 'www.cincymls.com' doesn't match either of 'cincymls.net', 'www.cincymls.net', 'cincymls.com'\")))\n",
      "URL 'https://www.getsafe.com' returned a '403 Forbidden' status code. Skipping.\n",
      "URL 'https://www.fumclr.org' returned a '403 Forbidden' status code. Skipping.\n",
      "URL 'https://www.facingthefuture.com' returned a '403 Forbidden' status code. Skipping.\n",
      "URL 'https://www.planningshopintl.com' returned a '403 Forbidden' status code. Skipping.\n",
      "Failed to fetch the URL 'https://www.dabneyproperties.com'. Status code: 406\n",
      "URL 'https://www.celebrationbermudagrass.com' returned a '403 Forbidden' status code. Skipping.\n",
      "Failed to fetch the URL 'https://www.davidrichlaw.com'. Status code: 406\n",
      "URL 'https://www.strategicfactory.com' returned a '403 Forbidden' status code. Skipping.\n",
      "URL 'https://www.chotafalls.com' returned a '403 Forbidden' status code. Skipping.\n",
      "Failed to fetch the URL 'https://www.houstonlocksmithonline.com'. Status code: 503\n",
      "Failed to fetch the URL 'https://www.braintreeschools.org'. Status code: 429\n",
      "URL 'https://www.herberthooverkids.com' returned a '403 Forbidden' status code. Skipping.\n",
      "URL 'https://www.bellcountyflooring.com' returned a '403 Forbidden' status code. Skipping.\n",
      "URL 'https://www.siteaware.com' returned a '403 Forbidden' status code. Skipping.\n",
      "Failed to fetch the URL 'https://www.breakthroughformen.org'. Status code: 429\n",
      "URL 'https://www.cadcam.org' returned a '403 Forbidden' status code. Skipping.\n",
      "URL 'https://www.greenacresturfsc.com' returned a '403 Forbidden' status code. Skipping.\n",
      "URL 'https://www.campingkims.com' returned a '403 Forbidden' status code. Skipping.\n"
     ]
    },
    {
     "name": "stdout",
     "output_type": "stream",
     "text": [
      "URL 'https://www.fastersolutions.com' returned a '403 Forbidden' status code. Skipping.\n",
      "URL 'https://www.jirikdds.com' returned a '403 Forbidden' status code. Skipping.\n",
      "URL 'https://www.grandviewlending.com' returned a '403 Forbidden' status code. Skipping.\n",
      "An error occurred while processing the URL 'https://www.lacornueusa.com': ('Connection aborted.', RemoteDisconnected('Remote end closed connection without response'))\n",
      "URL 'https://www.atlantajewelryshow.com' returned a '403 Forbidden' status code. Skipping.\n",
      "Failed to fetch the URL 'https://www.atiwa.com'. Status code: 503\n",
      "Failed to fetch the URL 'https://www.awlcs.org'. Status code: 503\n",
      "Failed to fetch the URL 'https://www.medcgroup.com'. Status code: 503\n",
      "URL 'https://www.fortune-auto.com' returned a '403 Forbidden' status code. Skipping.\n",
      "URL 'https://www.insearchofliberty.com' returned a '403 Forbidden' status code. Skipping.\n",
      "URL 'https://www.owens-minor.com' returned a '403 Forbidden' status code. Skipping.\n",
      "URL 'https://www.bransonkidsguide.com' returned a '403 Forbidden' status code. Skipping.\n",
      "An error occurred while processing the URL 'https://www.dreamsfactory.com': HTTPSConnectionPool(host='www.dreamsfactory.com', port=443): Max retries exceeded with url: / (Caused by SSLError(CertificateError(\"hostname 'www.dreamsfactory.com' doesn't match either of '*.squarespace.com', 'squarespace.com', '*.campaign-preferences.com', 'campaign-preferences.com', '*.sqsp.net', 'sqsp.net', '*.sqspcdn.com', 'static1.1.sqspcdn.com', 'static2.1.sqspcdn.com', 'static1.2.sqspcdn.com', 'cdn1.1.sqspcdn.com', 'sqspcdn.com', '*.engage.squarespace-mail.com', 'engage.squarespace-mail.com'\")))\n",
      "URL 'https://www.abelectric.net' returned a '403 Forbidden' status code. Skipping.\n",
      "URL 'https://www.triagestaff.com' returned a '403 Forbidden' status code. Skipping.\n",
      "Timeout occurred while processing the URL 'https://www.trintme.com'. Skipping.\n",
      "Failed to fetch the URL 'https://www.gemmlearning.com'. Status code: 503\n",
      "URL 'https://www.hitstheatre.org' returned a '403 Forbidden' status code. Skipping.\n",
      "Timeout occurred while processing the URL 'https://www.diversifiedsourcingsolutions.com'. Skipping.\n",
      "URL 'https://www.andrewalpert.com' returned a '403 Forbidden' status code. Skipping.\n",
      "URL 'https://www.jdraymond.com' returned a '403 Forbidden' status code. Skipping.\n",
      "URL 'https://www.colletteys.com' returned a '403 Forbidden' status code. Skipping.\n",
      "URL 'https://www.dentistryforsandiego.com' returned a '403 Forbidden' status code. Skipping.\n",
      "URL 'https://www.frederickgardens.com' returned a '403 Forbidden' status code. Skipping.\n",
      "Failed to fetch the URL 'https://www.biographysocialart.org'. Status code: 406\n",
      "Failed to fetch the URL 'https://www.riverbendfestival.com'. Status code: 429\n",
      "URL 'https://www.ameliarentals.com' returned a '403 Forbidden' status code. Skipping.\n",
      "URL 'https://www.ccadvance.org' returned a '403 Forbidden' status code. Skipping.\n",
      "URL 'https://www.alanfrankroofing.com' returned a '403 Forbidden' status code. Skipping.\n",
      "URL 'https://www.gaithersburgkids.com' returned a '403 Forbidden' status code. Skipping.\n",
      "URL 'https://www.fortworthkidsguide.com' returned a '403 Forbidden' status code. Skipping.\n",
      "URL 'https://www.gpee.org' returned a '403 Forbidden' status code. Skipping.\n",
      "URL 'https://www.bulletproofhome.org' returned a '403 Forbidden' status code. Skipping.\n",
      "URL 'https://www.coltranesystems.com' returned a '403 Forbidden' status code. Skipping.\n",
      "URL 'https://www.berginjurylawyers.com' returned a '403 Forbidden' status code. Skipping.\n",
      "An error occurred while processing the URL 'https://www.alase.net': HTTPSConnectionPool(host='www.alase.net', port=443): Max retries exceeded with url: / (Caused by SSLError(SSLEOFError(8, 'EOF occurred in violation of protocol (_ssl.c:1129)')))\n",
      "URL 'https://www.dronevideos.com' returned a '403 Forbidden' status code. Skipping.\n",
      "URL 'https://www.blackoutusa.org' returned a '403 Forbidden' status code. Skipping.\n",
      "URL 'https://www.internalbalance.com' returned a '403 Forbidden' status code. Skipping.\n",
      "URL 'https://www.fpeusa.org' returned a '403 Forbidden' status code. Skipping.\n",
      "URL 'https://www.goalac.org' returned a '403 Forbidden' status code. Skipping.\n",
      "URL 'https://www.industrialcolor.com' returned a '403 Forbidden' status code. Skipping.\n",
      "URL 'https://www.idealcontent.com' returned a '403 Forbidden' status code. Skipping.\n",
      "URL 'https://www.clivesroadhouse.com' returned a '403 Forbidden' status code. Skipping.\n",
      "URL 'https://www.austinkidsguide.com' returned a '403 Forbidden' status code. Skipping.\n",
      "URL 'https://www.boulderkids.com' returned a '403 Forbidden' status code. Skipping.\n",
      "URL 'https://www.elancoastvillage.com' returned a '403 Forbidden' status code. Skipping.\n",
      "URL 'https://www.elantamarackshores.com' returned a '403 Forbidden' status code. Skipping.\n",
      "URL 'https://www.elanviewpointe.com' returned a '403 Forbidden' status code. Skipping.\n",
      "An error occurred while processing the URL 'https://www.aggiebsm.org': HTTPSConnectionPool(host='www.aggiebsm.org', port=443): Max retries exceeded with url: / (Caused by SSLError(CertificateError(\"hostname 'www.aggiebsm.org' doesn't match either of '*.cloversites.com', 'cloversites.com'\")))\n",
      "Failed to fetch the URL 'https://www.davidmichaelmoore.com'. Status code: 429\n",
      "An error occurred while processing the URL 'https://www.deraldgab.com': HTTPSConnectionPool(host='www.deraldgab.com', port=443): Max retries exceeded with url: / (Caused by SSLError(CertificateError(\"hostname 'www.deraldgab.com' doesn't match 'deraldgab.com'\")))\n",
      "URL 'https://www.impactok.org' returned a '403 Forbidden' status code. Skipping.\n",
      "URL 'https://www.elannorthwoods.com' returned a '403 Forbidden' status code. Skipping.\n",
      "URL 'https://www.heritagefinancial.net' returned a '403 Forbidden' status code. Skipping.\n",
      "Failed to fetch the URL 'https://www.amtexprecision.com'. Status code: 406\n",
      "An error occurred while processing the URL 'https://www.purewatertech.com': HTTPSConnectionPool(host='www.purewatertech.com', port=443): Max retries exceeded with url: / (Caused by SSLError(CertificateError(\"hostname 'www.purewatertech.com' doesn't match either of '*.wpengine.com', 'wpengine.com'\")))\n",
      "URL 'https://www.illinoiskidsguide.com' returned a '403 Forbidden' status code. Skipping.\n",
      "URL 'https://www.chillexpeditions.com' returned a '403 Forbidden' status code. Skipping.\n",
      "Failed to fetch the URL 'https://www.gunsandleather.com'. Status code: 406\n",
      "URL 'https://www.dleeventgroup.com' returned a '403 Forbidden' status code. Skipping.\n",
      "URL 'https://www.grimesandteich.com' returned a '403 Forbidden' status code. Skipping.\n",
      "Timeout occurred while processing the URL 'https://www.drkoreen.com'. Skipping.\n",
      "URL 'https://www.pecaa.com' returned a '403 Forbidden' status code. Skipping.\n",
      "URL 'https://www.elanpacificlofts.com' returned a '403 Forbidden' status code. Skipping.\n",
      "URL 'https://www.brookwoodendo.com' returned a '403 Forbidden' status code. Skipping.\n",
      "An error occurred while processing the URL 'https://www.iisport.org': HTTPSConnectionPool(host='www.iisport.org', port=443): Max retries exceeded with url: / (Caused by NewConnectionError('<urllib3.connection.HTTPSConnection object at 0x7fe998bd7550>: Failed to establish a new connection: [Errno 61] Connection refused'))\n",
      "URL 'https://www.deaf-interpreter.com' returned a '403 Forbidden' status code. Skipping.\n",
      "An error occurred while processing the URL 'https://www.dansco.com': HTTPSConnectionPool(host='www.dansco.com', port=443): Max retries exceeded with url: / (Caused by SSLError(SSLCertVerificationError(1, '[SSL: CERTIFICATE_VERIFY_FAILED] certificate verify failed: certificate has expired (_ssl.c:1129)')))\n",
      "An error occurred while processing the URL 'https://www.godiscoverhealth.com': ('Received response with content-encoding: gzip, but failed to decode it.', error('Error -3 while decompressing data: incorrect header check'))\n",
      "URL 'https://www.hotelabidoru.it' returned a '403 Forbidden' status code. Skipping.\n",
      "URL 'https://www.hiddenvillageapt.com' returned a '403 Forbidden' status code. Skipping.\n",
      "Failed to fetch the URL 'https://www.academynw.com'. Status code: 406\n",
      "URL 'https://www.fortressstabilization.com' returned a '403 Forbidden' status code. Skipping.\n",
      "URL 'https://www.investorclaims.com' returned a '403 Forbidden' status code. Skipping.\n"
     ]
    },
    {
     "name": "stdout",
     "output_type": "stream",
     "text": [
      "URL 'https://www.cityvistaapts.com' returned a '403 Forbidden' status code. Skipping.\n",
      "Failed to fetch the URL 'https://www.impactreptheatre.org'. Status code: 429\n",
      "Failed to fetch the URL 'https://www.accessalaska.org'. Status code: 429\n",
      "Timeout occurred while processing the URL 'https://www.imagedermatology.com'. Skipping.\n",
      "URL 'https://www.blastec.com' returned a '403 Forbidden' status code. Skipping.\n",
      "URL 'https://www.elanvillagecourt.com' returned a '403 Forbidden' status code. Skipping.URL 'https://www.elanscrippsterrace.com' returned a '403 Forbidden' status code. Skipping.\n",
      "\n",
      "URL 'https://www.elansolanapointe.com' returned a '403 Forbidden' status code. Skipping.\n",
      "URL 'https://www.interservlp.com' returned a '403 Forbidden' status code. Skipping.\n",
      "Timeout occurred while processing the URL 'https://www.salon-concepts.com'. Skipping.\n",
      "Results saved to '/Users/rentsher/Desktop/output_results_with_counts_1.csv'.\n"
     ]
    }
   ],
   "source": [
    "import requests\n",
    "import pandas as pd\n",
    "from concurrent.futures import ThreadPoolExecutor\n",
    "from tqdm import tqdm\n",
    "import time\n",
    "\n",
    "def count_string_in_url(url, target_string, timeout=60):\n",
    "    try:\n",
    "        # Send an HTTP GET request to the URL with a timeout\n",
    "        response = requests.get(url, timeout=timeout)\n",
    "        \n",
    "        # Check if the request was successful (status code 200)\n",
    "        if response.status_code == 200:\n",
    "            # Get the content of the web page\n",
    "            page_content = response.text\n",
    "            \n",
    "            # Count the occurrences of the target string\n",
    "            count = page_content.count(target_string)\n",
    "            \n",
    "            return count\n",
    "        elif response.status_code == 403:\n",
    "            print(f\"URL '{url}' returned a '403 Forbidden' status code. Skipping.\")\n",
    "            return 0  # Return 0 to indicate that the URL was processed but no occurrences found\n",
    "        else:\n",
    "            print(f\"Failed to fetch the URL '{url}'. Status code: {response.status_code}\")\n",
    "            return -1  # Return -1 to indicate an error\n",
    "    except requests.Timeout:\n",
    "        print(f\"Timeout occurred while processing the URL '{url}'. Skipping.\")\n",
    "        return -1  # Return -1 to indicate a timeout error\n",
    "    except Exception as e:\n",
    "        print(f\"An error occurred while processing the URL '{url}': {str(e)}\")\n",
    "        return -1  # Return -1 to indicate an error\n",
    "\n",
    "# Path to the CSV file containing URLs (replace with your input CSV file path)\n",
    "input_csv_file_path = \"/Users/rentsher/Desktop/test_file.csv\"\n",
    "\n",
    "# Read the CSV file into a DataFrame\n",
    "try:\n",
    "    df = pd.read_csv(input_csv_file_path)\n",
    "except Exception as e:\n",
    "    print(f\"An error occurred while reading the CSV file: {str(e)}\")\n",
    "    df = pd.DataFrame()\n",
    "\n",
    "if not df.empty:\n",
    "    target_string = \"https://i.vimeo\"\n",
    "    \n",
    "    # Create a list to store the results\n",
    "    results = []\n",
    "\n",
    "    # Replace \"YourColumnName\" with the actual column name containing the URLs\n",
    "    urls = df[\"Domain\"]\n",
    "\n",
    "    # Create a ThreadPoolExecutor for concurrent processing\n",
    "    with ThreadPoolExecutor(max_workers=5) as executor:\n",
    "        futures = []\n",
    "        \n",
    "        # Wrap the loop with tqdm for progress monitoring\n",
    "        for url in tqdm(urls, desc=\"Processing URLs\"):\n",
    "            start_time = time.time()\n",
    "            future = executor.submit(count_string_in_url, url, target_string)\n",
    "            futures.append((url, future))\n",
    "        \n",
    "        for url, future in futures:\n",
    "            count = future.result()\n",
    "            if count is not None:\n",
    "                result_entry = {\n",
    "                    \"URL\": url,\n",
    "                    \"Count\": count\n",
    "                }\n",
    "                results.append(result_entry)\n",
    "\n",
    "    # Create a DataFrame from the results\n",
    "    df_results = pd.DataFrame(results)\n",
    "\n",
    "    # Path to the output CSV file (replace with your desired output file path)\n",
    "    output_csv_file_path = \"/Users/rentsher/Desktop/output_results_with_counts_1.csv\"\n",
    "\n",
    "    # Save the DataFrame with results to the output CSV file\n",
    "    df_results.to_csv(output_csv_file_path, index=False)\n",
    "\n",
    "    print(f\"Results saved to '{output_csv_file_path}'.\")\n",
    "else:\n",
    "    print(\"Empty DataFrame. No processing or saving was performed.\")\n"
   ]
  },
  {
   "cell_type": "code",
   "execution_count": 12,
   "id": "80b5d99f",
   "metadata": {},
   "outputs": [
    {
     "name": "stderr",
     "output_type": "stream",
     "text": [
      "Processing URLs:   1%|▏                         | 2/254 [00:00<00:57,  4.38it/s]"
     ]
    },
    {
     "name": "stdout",
     "output_type": "stream",
     "text": [
      "URL 'https://www.vonage.com' returned a '403 Forbidden' status code. Skipping.\n"
     ]
    },
    {
     "name": "stderr",
     "output_type": "stream",
     "text": [
      "Processing URLs:   4%|▉                        | 10/254 [00:03<01:49,  2.23it/s]"
     ]
    },
    {
     "name": "stdout",
     "output_type": "stream",
     "text": [
      "URL 'https://www.springct.com' returned a '403 Forbidden' status code. Skipping.\n"
     ]
    },
    {
     "name": "stderr",
     "output_type": "stream",
     "text": [
      "Processing URLs:   7%|█▋                       | 17/254 [00:04<00:47,  5.04it/s]"
     ]
    },
    {
     "name": "stdout",
     "output_type": "stream",
     "text": [
      "An error occurred while processing the URL 'https://www.knowlarity.com': HTTPSConnectionPool(host='www.knowlarity.com', port=443): Max retries exceeded with url: / (Caused by SSLError(SSLCertVerificationError(1, '[SSL: CERTIFICATE_VERIFY_FAILED] certificate verify failed: unable to get local issuer certificate (_ssl.c:1129)')))\n"
     ]
    },
    {
     "name": "stderr",
     "output_type": "stream",
     "text": [
      "Processing URLs:  10%|██▌                      | 26/254 [00:06<00:27,  8.16it/s]"
     ]
    },
    {
     "name": "stdout",
     "output_type": "stream",
     "text": [
      "An error occurred while processing the URL 'https://www.hentland.com': HTTPSConnectionPool(host='www.hentland.com', port=443): Max retries exceeded with url: / (Caused by NewConnectionError('<urllib3.connection.HTTPSConnection object at 0x7fe98a838ee0>: Failed to establish a new connection: [Errno 61] Connection refused'))\n"
     ]
    },
    {
     "name": "stderr",
     "output_type": "stream",
     "text": [
      "Processing URLs:  11%|██▊                      | 29/254 [00:07<00:35,  6.39it/s]"
     ]
    },
    {
     "name": "stdout",
     "output_type": "stream",
     "text": [
      "Failed to fetch the URL 'https://www.pentagon.co.in'. Status code: 500\n"
     ]
    },
    {
     "name": "stderr",
     "output_type": "stream",
     "text": [
      "Processing URLs:  13%|███▏                     | 33/254 [00:08<00:42,  5.14it/s]"
     ]
    },
    {
     "name": "stdout",
     "output_type": "stream",
     "text": [
      "URL 'https://www.kumarassociates.co.uk' returned a '403 Forbidden' status code. Skipping.\n"
     ]
    },
    {
     "name": "stderr",
     "output_type": "stream",
     "text": [
      "Processing URLs:  15%|███▋                     | 37/254 [00:09<01:14,  2.91it/s]"
     ]
    },
    {
     "name": "stdout",
     "output_type": "stream",
     "text": [
      "Failed to fetch the URL 'https://www.theapplabb.com'. Status code: 406\n"
     ]
    },
    {
     "name": "stderr",
     "output_type": "stream",
     "text": [
      "Processing URLs:  21%|█████▏                   | 53/254 [00:14<00:32,  6.13it/s]"
     ]
    },
    {
     "name": "stdout",
     "output_type": "stream",
     "text": [
      "An error occurred while processing the URL 'https://www.www.nic.in': HTTPSConnectionPool(host='www.www.nic.in', port=443): Max retries exceeded with url: / (Caused by NewConnectionError('<urllib3.connection.HTTPSConnection object at 0x7fe98a83f670>: Failed to establish a new connection: [Errno 8] nodename nor servname provided, or not known'))\n"
     ]
    },
    {
     "name": "stderr",
     "output_type": "stream",
     "text": [
      "Processing URLs:  22%|█████▌                   | 56/254 [00:14<00:43,  4.60it/s]"
     ]
    },
    {
     "name": "stdout",
     "output_type": "stream",
     "text": [
      "An error occurred while processing the URL 'https://www.visionetsystems.com': HTTPSConnectionPool(host='www.visionetsystems.com', port=443): Max retries exceeded with url: / (Caused by SSLError(CertificateError(\"hostname 'www.visionetsystems.com' doesn't match either of '*.sucuri.net', 'sucuri.net'\")))\n"
     ]
    },
    {
     "name": "stderr",
     "output_type": "stream",
     "text": [
      "Processing URLs:  25%|██████▏                  | 63/254 [00:16<00:53,  3.58it/s]"
     ]
    },
    {
     "name": "stdout",
     "output_type": "stream",
     "text": [
      "An error occurred while processing the URL 'https://www.dvois.com': HTTPSConnectionPool(host='www.dvois.com', port=443): Max retries exceeded with url: / (Caused by SSLError(SSLCertVerificationError(1, '[SSL: CERTIFICATE_VERIFY_FAILED] certificate verify failed: unable to get local issuer certificate (_ssl.c:1129)')))\n"
     ]
    },
    {
     "name": "stderr",
     "output_type": "stream",
     "text": [
      "Processing URLs:  26%|██████▌                  | 67/254 [00:17<00:39,  4.77it/s]"
     ]
    },
    {
     "name": "stdout",
     "output_type": "stream",
     "text": [
      "URL 'https://www.skyboxsecurity.com' returned a '403 Forbidden' status code. Skipping.\n"
     ]
    },
    {
     "name": "stderr",
     "output_type": "stream",
     "text": [
      "Processing URLs:  30%|███████▍                 | 76/254 [00:19<00:27,  6.46it/s]"
     ]
    },
    {
     "name": "stdout",
     "output_type": "stream",
     "text": [
      "An error occurred while processing the URL 'https://www.vivobio.com': HTTPSConnectionPool(host='www.vivobio.com', port=443): Max retries exceeded with url: / (Caused by SSLError(SSLError(1, '[SSL: TLSV1_ALERT_INTERNAL_ERROR] tlsv1 alert internal error (_ssl.c:1129)')))\n"
     ]
    },
    {
     "name": "stderr",
     "output_type": "stream",
     "text": [
      "Processing URLs:  31%|███████▊                 | 79/254 [00:19<00:35,  4.92it/s]"
     ]
    },
    {
     "name": "stdout",
     "output_type": "stream",
     "text": [
      "URL 'https://www.servicenow.com' returned a '403 Forbidden' status code. Skipping.\n"
     ]
    },
    {
     "name": "stderr",
     "output_type": "stream",
     "text": [
      "Processing URLs:  33%|████████▎                | 84/254 [00:22<01:18,  2.16it/s]"
     ]
    },
    {
     "name": "stdout",
     "output_type": "stream",
     "text": [
      "Failed to fetch the URL 'https://www.predoole.com'. Status code: 406\n"
     ]
    },
    {
     "name": "stderr",
     "output_type": "stream",
     "text": [
      "Processing URLs:  37%|█████████▎               | 94/254 [00:24<00:41,  3.86it/s]"
     ]
    },
    {
     "name": "stdout",
     "output_type": "stream",
     "text": [
      "Failed to fetch the URL 'https://www.technoexponent.com'. Status code: 406\n"
     ]
    },
    {
     "name": "stderr",
     "output_type": "stream",
     "text": [
      "Processing URLs:  39%|█████████▋               | 98/254 [00:27<01:29,  1.73it/s]"
     ]
    },
    {
     "name": "stdout",
     "output_type": "stream",
     "text": [
      "URL 'https://www.rafter.one' returned a '403 Forbidden' status code. Skipping.\n"
     ]
    },
    {
     "name": "stderr",
     "output_type": "stream",
     "text": [
      "Processing URLs:  40%|█████████▌              | 101/254 [00:28<01:33,  1.64it/s]"
     ]
    },
    {
     "name": "stdout",
     "output_type": "stream",
     "text": [
      "URL 'https://www.prolifics.com' returned a '403 Forbidden' status code. Skipping.\n"
     ]
    },
    {
     "name": "stderr",
     "output_type": "stream",
     "text": [
      "Processing URLs:  42%|██████████              | 106/254 [00:30<00:45,  3.25it/s]"
     ]
    },
    {
     "name": "stdout",
     "output_type": "stream",
     "text": [
      "URL 'https://www.teikametrics.com' returned a '403 Forbidden' status code. Skipping.\n"
     ]
    },
    {
     "name": "stderr",
     "output_type": "stream",
     "text": [
      "Processing URLs:  46%|███████████▏            | 118/254 [00:35<00:41,  3.31it/s]"
     ]
    },
    {
     "name": "stdout",
     "output_type": "stream",
     "text": [
      "URL 'https://www.mindtree.com' returned a '403 Forbidden' status code. Skipping.\n"
     ]
    },
    {
     "name": "stderr",
     "output_type": "stream",
     "text": [
      "Processing URLs:  49%|███████████▋            | 124/254 [00:41<02:02,  1.06it/s]"
     ]
    },
    {
     "name": "stdout",
     "output_type": "stream",
     "text": [
      "URL 'https://www.hypermine.in' returned a '403 Forbidden' status code. Skipping.\n"
     ]
    },
    {
     "name": "stderr",
     "output_type": "stream",
     "text": [
      "Processing URLs:  50%|████████████            | 127/254 [00:43<01:48,  1.17it/s]"
     ]
    },
    {
     "name": "stdout",
     "output_type": "stream",
     "text": [
      "An error occurred while processing the URL 'https://www.tachouse.com': HTTPSConnectionPool(host='www.tachouse.com', port=443): Max retries exceeded with url: / (Caused by SSLError(CertificateError(\"hostname 'www.tachouse.com' doesn't match either of '*.specialservers.com', 'specialservers.com'\")))\n"
     ]
    },
    {
     "name": "stderr",
     "output_type": "stream",
     "text": [
      "Processing URLs:  53%|████████████▊           | 135/254 [00:47<00:39,  2.98it/s]"
     ]
    },
    {
     "name": "stdout",
     "output_type": "stream",
     "text": [
      "An error occurred while processing the URL 'https://www.nitie.ac.in': HTTPSConnectionPool(host='www.nitie.ac.in', port=443): Max retries exceeded with url: / (Caused by SSLError(SSLCertVerificationError(1, '[SSL: CERTIFICATE_VERIFY_FAILED] certificate verify failed: unable to get local issuer certificate (_ssl.c:1129)')))\n"
     ]
    },
    {
     "name": "stderr",
     "output_type": "stream",
     "text": [
      "Processing URLs:  55%|█████████████▏          | 139/254 [00:52<01:44,  1.10it/s]"
     ]
    },
    {
     "name": "stdout",
     "output_type": "stream",
     "text": [
      "Failed to fetch the URL 'https://www.capricot.com'. Status code: 406\n"
     ]
    },
    {
     "name": "stderr",
     "output_type": "stream",
     "text": [
      "Processing URLs:  56%|█████████████▌          | 143/254 [00:54<00:53,  2.08it/s]"
     ]
    },
    {
     "name": "stdout",
     "output_type": "stream",
     "text": [
      "An error occurred while processing the URL 'https://www.primefocus.com': HTTPSConnectionPool(host='www.primefocus.com', port=443): Max retries exceeded with url: / (Caused by SSLError(SSLCertVerificationError(1, '[SSL: CERTIFICATE_VERIFY_FAILED] certificate verify failed: unable to get local issuer certificate (_ssl.c:1129)')))\n"
     ]
    },
    {
     "name": "stderr",
     "output_type": "stream",
     "text": [
      "Processing URLs:  60%|██████████████▎         | 152/254 [00:59<00:53,  1.92it/s]"
     ]
    },
    {
     "name": "stdout",
     "output_type": "stream",
     "text": [
      "URL 'https://www.investisdigital.com' returned a '403 Forbidden' status code. Skipping.\n"
     ]
    },
    {
     "name": "stderr",
     "output_type": "stream",
     "text": [
      "Processing URLs:  61%|██████████████▌         | 154/254 [01:00<00:50,  2.00it/s]"
     ]
    },
    {
     "name": "stdout",
     "output_type": "stream",
     "text": [
      "An error occurred while processing the URL 'https://www.strattoncommunications.com': HTTPSConnectionPool(host='www.strattoncommunications.com', port=443): Max retries exceeded with url: / (Caused by SSLError(CertificateError(\"hostname 'www.strattoncommunications.com' doesn't match either of '*.webhostbox.net', 'webhostbox.net'\")))\n"
     ]
    },
    {
     "name": "stderr",
     "output_type": "stream",
     "text": [
      "Processing URLs:  61%|██████████████▋         | 156/254 [01:01<00:33,  2.96it/s]"
     ]
    },
    {
     "name": "stdout",
     "output_type": "stream",
     "text": [
      "URL 'https://www.monsterindia.com' returned a '403 Forbidden' status code. Skipping.\n"
     ]
    },
    {
     "name": "stderr",
     "output_type": "stream",
     "text": [
      "Processing URLs:  62%|██████████████▉         | 158/254 [01:01<00:27,  3.45it/s]"
     ]
    },
    {
     "name": "stdout",
     "output_type": "stream",
     "text": [
      "An error occurred while processing the URL 'https://www.msit.edu.in': HTTPSConnectionPool(host='www.msit.edu.in', port=443): Max retries exceeded with url: / (Caused by SSLError(CertificateError(\"hostname 'www.msit.edu.in' doesn't match either of 'technoindiagroup.in', 'careers.technoindiagroup.in', 'msit.edu.in', 'satyamrc.com', 'satyamroychowdhuryfoundation.com', 'technoglobalhospital.com', 'technojunior.in', 'theretreatdarjeeling.com', 'theretreatkolkata.com', 'thotshop.in', 'tib.edu.in'\")))\n"
     ]
    },
    {
     "name": "stderr",
     "output_type": "stream",
     "text": [
      "Processing URLs:  66%|███████████████▊        | 168/254 [01:06<00:48,  1.77it/s]"
     ]
    },
    {
     "name": "stdout",
     "output_type": "stream",
     "text": [
      "Timeout occurred while processing the URL 'https://www.hpe.com'. Skipping.\n"
     ]
    },
    {
     "name": "stderr",
     "output_type": "stream",
     "text": [
      "Processing URLs:  68%|████████████████▎       | 173/254 [01:08<00:36,  2.19it/s]"
     ]
    },
    {
     "name": "stdout",
     "output_type": "stream",
     "text": [
      "An error occurred while processing the URL 'https://www.fxschool.in': HTTPSConnectionPool(host='www.fxschool.in', port=443): Max retries exceeded with url: / (Caused by SSLError(SSLError(1, '[SSL: TLSV1_ALERT_INTERNAL_ERROR] tlsv1 alert internal error (_ssl.c:1129)')))\n"
     ]
    },
    {
     "name": "stderr",
     "output_type": "stream",
     "text": [
      "Processing URLs:  70%|████████████████▊       | 178/254 [01:11<00:28,  2.67it/s]"
     ]
    },
    {
     "name": "stdout",
     "output_type": "stream",
     "text": [
      "Failed to fetch the URL 'https://www.knitpro.co.in'. Status code: 404\n"
     ]
    },
    {
     "name": "stderr",
     "output_type": "stream",
     "text": [
      "Processing URLs:  71%|█████████████████       | 180/254 [01:12<00:26,  2.76it/s]"
     ]
    },
    {
     "name": "stdout",
     "output_type": "stream",
     "text": [
      "Failed to fetch the URL 'https://www.taxila.in'. Status code: 406\n"
     ]
    },
    {
     "name": "stderr",
     "output_type": "stream",
     "text": [
      "\r\n",
      "Processing URLs:  72%|█████████████████▎      | 183/254 [01:12<00:17,  4.11it/s]"
     ]
    },
    {
     "name": "stdout",
     "output_type": "stream",
     "text": [
      "URL 'https://www.whatfix.com' returned a '403 Forbidden' status code. Skipping.\n"
     ]
    },
    {
     "name": "stderr",
     "output_type": "stream",
     "text": [
      "Processing URLs:  74%|█████████████████▋      | 187/254 [01:15<00:31,  2.11it/s]"
     ]
    },
    {
     "name": "stdout",
     "output_type": "stream",
     "text": [
      "URL 'https://www.emids.com' returned a '403 Forbidden' status code. Skipping.\n"
     ]
    },
    {
     "name": "stderr",
     "output_type": "stream",
     "text": [
      "\r\n",
      "Processing URLs:  74%|█████████████████▊      | 188/254 [01:16<00:37,  1.77it/s]"
     ]
    },
    {
     "name": "stdout",
     "output_type": "stream",
     "text": [
      "Failed to fetch the URL 'https://www.bravensinc.com'. Status code: 406\n"
     ]
    },
    {
     "name": "stderr",
     "output_type": "stream",
     "text": [
      "Processing URLs:  75%|██████████████████      | 191/254 [01:17<00:27,  2.31it/s]"
     ]
    },
    {
     "name": "stdout",
     "output_type": "stream",
     "text": [
      "An error occurred while processing the URL 'https://www.infino.co': HTTPSConnectionPool(host='www.infino.co', port=443): Max retries exceeded with url: / (Caused by SSLError(SSLCertVerificationError(1, '[SSL: CERTIFICATE_VERIFY_FAILED] certificate verify failed: certificate has expired (_ssl.c:1129)')))\n"
     ]
    },
    {
     "name": "stderr",
     "output_type": "stream",
     "text": [
      "Processing URLs:  78%|██████████████████▋     | 198/254 [01:19<00:16,  3.46it/s]"
     ]
    },
    {
     "name": "stdout",
     "output_type": "stream",
     "text": [
      "Timeout occurred while processing the URL 'https://www.hcltech.com'. Skipping.\n",
      "URL 'https://www.yourstory.com' returned a '403 Forbidden' status code. Skipping.\n"
     ]
    },
    {
     "name": "stderr",
     "output_type": "stream",
     "text": [
      "\r\n",
      "Processing URLs:  78%|██████████████████▊     | 199/254 [01:19<00:15,  3.54it/s]"
     ]
    },
    {
     "name": "stdout",
     "output_type": "stream",
     "text": [
      "An error occurred while processing the URL 'https://www.uou-edu.com': ('Connection aborted.', ConnectionResetError(54, 'Connection reset by peer'))\n"
     ]
    },
    {
     "name": "stderr",
     "output_type": "stream",
     "text": [
      "Processing URLs:  85%|████████████████████▍   | 216/254 [01:25<00:11,  3.42it/s]"
     ]
    },
    {
     "name": "stdout",
     "output_type": "stream",
     "text": [
      "URL 'https://www.techment.com' returned a '403 Forbidden' status code. Skipping.\n"
     ]
    },
    {
     "name": "stderr",
     "output_type": "stream",
     "text": [
      "Processing URLs:  86%|████████████████████▋   | 219/254 [01:25<00:08,  4.14it/s]"
     ]
    },
    {
     "name": "stdout",
     "output_type": "stream",
     "text": [
      "URL 'https://www.shipbob.com' returned a '403 Forbidden' status code. Skipping.\n"
     ]
    },
    {
     "name": "stderr",
     "output_type": "stream",
     "text": [
      "Processing URLs:  89%|█████████████████████▎  | 225/254 [01:26<00:06,  4.59it/s]"
     ]
    },
    {
     "name": "stdout",
     "output_type": "stream",
     "text": [
      "Timeout occurred while processing the URL 'https://www.maersk.com'. Skipping.\n"
     ]
    },
    {
     "name": "stderr",
     "output_type": "stream",
     "text": [
      "\r\n",
      "Processing URLs:  89%|█████████████████████▎  | 226/254 [01:26<00:06,  4.26it/s]"
     ]
    },
    {
     "name": "stdout",
     "output_type": "stream",
     "text": [
      "An error occurred while processing the URL 'https://www.srsl.in': HTTPSConnectionPool(host='www.srsl.in', port=443): Max retries exceeded with url: / (Caused by SSLError(CertificateError(\"hostname 'www.srsl.in' doesn't match 'blackpanther.dnsracks.com'\")))\n",
      "An error occurred while processing the URL 'https://www.jaraware.com': HTTPSConnectionPool(host='www.jaraware.com', port=443): Max retries exceeded with url: / (Caused by SSLError(CertificateError(\"hostname 'www.jaraware.com' doesn't match either of 'jaraware.com', 'preview.jaraware.com'\")))\n"
     ]
    },
    {
     "name": "stderr",
     "output_type": "stream",
     "text": [
      "\r\n",
      "Processing URLs:  91%|█████████████████████▋  | 230/254 [01:27<00:04,  5.24it/s]"
     ]
    },
    {
     "name": "stdout",
     "output_type": "stream",
     "text": [
      "URL 'https://www.tigeranalytics.com' returned a '403 Forbidden' status code. Skipping.\n"
     ]
    },
    {
     "name": "stderr",
     "output_type": "stream",
     "text": [
      "Processing URLs:  93%|██████████████████████▏ | 235/254 [01:29<00:04,  3.84it/s]"
     ]
    },
    {
     "name": "stdout",
     "output_type": "stream",
     "text": [
      "URL 'https://www.joytechnologies.com' returned a '403 Forbidden' status code. Skipping.\n"
     ]
    },
    {
     "name": "stderr",
     "output_type": "stream",
     "text": [
      "Processing URLs:  93%|██████████████████████▍ | 237/254 [01:29<00:04,  3.93it/s]"
     ]
    },
    {
     "name": "stdout",
     "output_type": "stream",
     "text": [
      "URL 'https://www.srmist.edu.in' returned a '403 Forbidden' status code. Skipping.\n"
     ]
    },
    {
     "name": "stderr",
     "output_type": "stream",
     "text": [
      "Processing URLs:  98%|███████████████████████▌| 250/254 [01:32<00:01,  3.49it/s]"
     ]
    },
    {
     "name": "stdout",
     "output_type": "stream",
     "text": [
      "URL 'https://www.dream11.com' returned a '403 Forbidden' status code. Skipping.\n"
     ]
    },
    {
     "name": "stderr",
     "output_type": "stream",
     "text": [
      "Processing URLs: 100%|███████████████████████▉| 253/254 [02:05<00:07,  7.74s/it]"
     ]
    },
    {
     "name": "stdout",
     "output_type": "stream",
     "text": [
      "Timeout occurred while processing the URL 'https://www.kanpuruniversity.org'. Skipping.\n"
     ]
    },
    {
     "name": "stderr",
     "output_type": "stream",
     "text": [
      "Processing URLs: 100%|████████████████████████| 254/254 [02:29<00:00,  1.70it/s]"
     ]
    },
    {
     "name": "stdout",
     "output_type": "stream",
     "text": [
      "Timeout occurred while processing the URL 'https://www.alterego-technology.com'. Skipping.\n",
      "Results saved to '/Users/rentsher/Desktop/output_results_with_counts_4.csv'.\n"
     ]
    },
    {
     "name": "stderr",
     "output_type": "stream",
     "text": [
      "\n"
     ]
    }
   ],
   "source": [
    "import requests\n",
    "import pandas as pd\n",
    "from concurrent.futures import ThreadPoolExecutor\n",
    "from tqdm import tqdm\n",
    "import time\n",
    "\n",
    "def count_string_in_url(url, target_string, uppercase=False, timeout=60):\n",
    "    try:\n",
    "        # Send an HTTP GET request to the URL with a timeout\n",
    "        response = requests.get(url, timeout=timeout)\n",
    "        \n",
    "        # Check if the request was successful (status code 200)\n",
    "        if response.status_code == 200:\n",
    "            # Get the content of the web page\n",
    "            page_content = response.text\n",
    "            \n",
    "            # Optionally capitalize or uppercase the HTML content\n",
    "            if uppercase:\n",
    "                page_content = page_content.upper()\n",
    "            \n",
    "            # Count the occurrences of the target string\n",
    "            count = page_content.count(target_string.upper())\n",
    "            \n",
    "            return count\n",
    "        elif response.status_code == 403:\n",
    "            print(f\"URL '{url}' returned a '403 Forbidden' status code. Skipping.\")\n",
    "            return 0  # Return 0 to indicate that the URL was processed but no occurrences found\n",
    "        else:\n",
    "            print(f\"Failed to fetch the URL '{url}'. Status code: {response.status_code}\")\n",
    "            return -1  # Return -1 to indicate an error\n",
    "    except requests.Timeout:\n",
    "        print(f\"Timeout occurred while processing the URL '{url}'. Skipping.\")\n",
    "        return -1  # Return -1 to indicate a timeout error\n",
    "    except Exception as e:\n",
    "        print(f\"An error occurred while processing the URL '{url}': {str(e)}\")\n",
    "        return -1  # Return -1 to indicate an error\n",
    "\n",
    "# Path to the CSV file containing URLs (replace with your input CSV file path)\n",
    "input_csv_file_path = \"/Users/rentsher/Desktop/test_file.csv\"  # Replace with the actual input path\n",
    "\n",
    "# Read the CSV file into a DataFrame\n",
    "try:\n",
    "    df = pd.read_csv(input_csv_file_path)\n",
    "except Exception as e:\n",
    "    print(f\"An error occurred while reading the CSV file: {str(e)}\")\n",
    "    df = pd.DataFrame()\n",
    "\n",
    "if not df.empty:\n",
    "    target_string = \"Imagekit.io\"\n",
    "    \n",
    "    # Create a list to store the results\n",
    "    results = []\n",
    "\n",
    "    # Replace \"YourColumnName\" with the actual column name containing the URLs\n",
    "    urls = df[\"Domain\"]\n",
    "\n",
    "    # Configure tqdm with the total number of URLs for accurate progress tracking\n",
    "    total_urls = len(urls)\n",
    "    with tqdm(total=total_urls, desc=\"Processing URLs\") as pbar:\n",
    "        # Create a ThreadPoolExecutor for concurrent processing\n",
    "        with ThreadPoolExecutor(max_workers=5) as executor:\n",
    "            futures = []\n",
    "            \n",
    "            # Wrap the loop for progress monitoring\n",
    "            for url in urls:\n",
    "                start_time = time.time()\n",
    "                future = executor.submit(count_string_in_url, url, target_string, uppercase=True)\n",
    "                future.add_done_callback(lambda x: pbar.update(1))  # Update progress bar\n",
    "                futures.append((url, future))\n",
    "            \n",
    "            for url, future in futures:\n",
    "                count = future.result()\n",
    "                if count is not None:\n",
    "                    result_entry = {\n",
    "                        \"URL\": url,\n",
    "                        \"Count\": count\n",
    "                    }\n",
    "                    results.append(result_entry)\n",
    "\n",
    "    # Create a DataFrame from the results\n",
    "    df_results = pd.DataFrame(results)\n",
    "\n",
    "    # Path to the output CSV file (replace with your desired output file path)\n",
    "    output_csv_file_path = \"/Users/rentsher/Desktop/output_results_with_counts_4.csv\"  # Replace with the actual output path\n",
    "\n",
    "    # Save the DataFrame with results to the output CSV file\n",
    "    df_results.to_csv(output_csv_file_path, index=False)\n",
    "\n",
    "    print(f\"Results saved to '{output_csv_file_path}'.\")\n",
    "else:\n",
    "    print(\"Empty DataFrame. No processing or saving was performed.\")\n"
   ]
  },
  {
   "cell_type": "code",
   "execution_count": null,
   "id": "3b79560e",
   "metadata": {},
   "outputs": [],
   "source": []
  },
  {
   "cell_type": "code",
   "execution_count": null,
   "id": "85a8dd10",
   "metadata": {},
   "outputs": [],
   "source": []
  }
 ],
 "metadata": {
  "kernelspec": {
   "display_name": "Python 3.9.12 ('base')",
   "language": "python",
   "name": "python3"
  },
  "language_info": {
   "codemirror_mode": {
    "name": "ipython",
    "version": 3
   },
   "file_extension": ".py",
   "mimetype": "text/x-python",
   "name": "python",
   "nbconvert_exporter": "python",
   "pygments_lexer": "ipython3",
   "version": "3.9.12"
  },
  "vscode": {
   "interpreter": {
    "hash": "b2477d28d4c962f377f35ef8e49a265e83d57fcfd4abeabec42f6362a97bde94"
   }
  }
 },
 "nbformat": 4,
 "nbformat_minor": 5
}
