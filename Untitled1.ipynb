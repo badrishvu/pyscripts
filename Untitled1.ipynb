{
 "cells": [
  {
   "cell_type": "code",
   "execution_count": 7,
   "id": "3cff269d",
   "metadata": {},
   "outputs": [
    {
     "name": "stderr",
     "output_type": "stream",
     "text": [
      "100%|███████████████████████████████████████| 1999/1999 [50:30<00:00,  1.52s/it]\n"
     ]
    },
    {
     "name": "stdout",
     "output_type": "stream",
     "text": [
      "99.95% of data fetched\n"
     ]
    }
   ],
   "source": [
    "# Import the libraries\n",
    "from bs4 import BeautifulSoup\n",
    "import requests\n",
    "import openpyxl\n",
    "\n",
    "# Import the tqdm library\n",
    "from tqdm import tqdm\n",
    "\n",
    "# Open the Excel file and select the sheet you want to work with\n",
    "wb = openpyxl.load_workbook('/Users/rentsher/Desktop/Gumlet/abc.xlsx')\n",
    "sheet = wb['Sheet1']\n",
    "\n",
    "# Get the total number of rows in the sheet\n",
    "num_rows = sheet.max_row\n",
    "\n",
    "# Initialize a counter variable to keep track of the number of rows processed\n",
    "counter = 0\n",
    "\n",
    "# Iterate over the rows in the sheet and fetch the data for each row\n",
    "for row in tqdm(sheet.iter_rows(min_row=2, max_col=2), total=num_rows - 1):\n",
    "  # Get the URL from cell A and the row number\n",
    "  url = row[0].value\n",
    "  row_number = row[0].row\n",
    "\n",
    "  # Send an HTTP request to the website and parse the HTML content\n",
    "  response = requests.get(url)\n",
    "  soup = BeautifulSoup(response.text, 'html.parser')\n",
    "\n",
    "  # Find the element with the data-testid attribute you are interested in\n",
    "  element = soup.find(attrs={\"\": \"siteheader_monthlyvisits\"})\n",
    "\n",
    "  # Extract the data you are interested in from the element\n",
    "  if element:\n",
    "    data = element.text\n",
    "  else:\n",
    "    data = \"\"\n",
    "\n",
    "  # Write the data to cell B of the current row\n",
    "  sheet.cell(row=row_number, column=2).value = data\n",
    "\n",
    "  # Increment the counter variable\n",
    "  counter += 1\n",
    "\n",
    "# Save the changes to the Excel file\n",
    "wb.save('/Users/rentsher/Desktop/Gumlet/Traffic_test.xlsx')\n",
    "\n",
    "# Print the percentage of data fetched\n",
    "print(f\"{counter / num_rows * 100:.2f}% of data fetched\")"
   ]
  },
  {
   "cell_type": "code",
   "execution_count": null,
   "id": "fd2b0c26",
   "metadata": {},
   "outputs": [],
   "source": []
  }
 ],
 "metadata": {
  "kernelspec": {
   "display_name": "Python 3.9.12",
   "language": "python",
   "name": "python3"
  },
  "language_info": {
   "codemirror_mode": {
    "name": "ipython",
    "version": 3
   },
   "file_extension": ".py",
   "mimetype": "text/x-python",
   "name": "python",
   "nbconvert_exporter": "python",
   "pygments_lexer": "ipython3",
   "version": "3.9.12"
  },
  "vscode": {
   "interpreter": {
    "hash": "b2477d28d4c962f377f35ef8e49a265e83d57fcfd4abeabec42f6362a97bde94"
   }
  }
 },
 "nbformat": 4,
 "nbformat_minor": 5
}
