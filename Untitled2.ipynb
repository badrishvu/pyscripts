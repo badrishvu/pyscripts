{
 "cells": [
  {
   "cell_type": "code",
   "execution_count": 3,
   "id": "fe03fc90",
   "metadata": {},
   "outputs": [
    {
     "name": "stderr",
     "output_type": "stream",
     "text": [
      "  1%|█▏                                                                                                                                                                   | 7/999 [00:49<1:56:01,  7.02s/it]\n",
      "100%|█████████████████████████████████████████████████████████████████████████████████████████████████████████████████████████████████████████████████████████████████████| 999/999 [25:48<00:00,  1.55s/it]\n"
     ]
    }
   ],
   "source": [
    "import requests\n",
    "from bs4 import BeautifulSoup\n",
    "import openpyxl\n",
    "from tqdm import tqdm\n",
    "\n",
    "# Open the Excel workbook and get the sheet\n",
    "workbook = openpyxl.load_workbook(\"/Users/rentsher/Desktop/Gumlet/Country_aws.xlsx\")\n",
    "sheet = workbook[\"Sheet2\"]\n",
    "\n",
    "# Get the number of rows in the sheet\n",
    "num_rows = sheet.max_row\n",
    "\n",
    "# Create a progress bar using tqdm\n",
    "pbar = tqdm(total=num_rows-1)\n",
    "\n",
    "# Iterate over the rows in the sheet\n",
    "for row in sheet.iter_rows(min_row=2):\n",
    "  # Get the domain name from column A\n",
    "  domain = row[0].value\n",
    "\n",
    "  # Set the URL to fetch\n",
    "  url = f\"https://www.whois.com/whois/{domain}\"\n",
    "\n",
    "  # Send the GET request\n",
    "  response = requests.get(url)\n",
    "\n",
    "  # Parse the response using Beautiful Soup\n",
    "  soup = BeautifulSoup(response.text, \"html.parser\")\n",
    "\n",
    "  # Extract the pre element with the class 'df-raw'\n",
    "  pre_element = soup.select_one(\"pre.df-raw\")\n",
    "\n",
    "  # Check if the pre element was found\n",
    "  if pre_element:\n",
    "    # Extract the relevant data\n",
    "    result = pre_element.text[pre_element.text.find(\"Registrant Country:\") + 18:][:32][:4]\n",
    "  else:\n",
    "    # Set the result to an empty string\n",
    "    result = \"\"\n",
    "\n",
    "  # Write the result to column B in the same row\n",
    "  row[1].value = result\n",
    "\n",
    "  # Update the progress bar\n",
    "  pbar.update(1)\n",
    "\n",
    "# Close the progress bar\n",
    "pbar.close()\n",
    "\n",
    "# Save the workbook\n",
    "workbook.save(\"/Users/rentsher/Desktop/Gumlet/Country_aws.xlsx\")\n"
   ]
  },
  {
   "cell_type": "code",
   "execution_count": null,
   "id": "ff92adff",
   "metadata": {},
   "outputs": [],
   "source": []
  },
  {
   "cell_type": "code",
   "execution_count": null,
   "id": "e2b6d4c9",
   "metadata": {},
   "outputs": [],
   "source": []
  }
 ],
 "metadata": {
  "kernelspec": {
   "display_name": "Python 3 (ipykernel)",
   "language": "python",
   "name": "python3"
  },
  "language_info": {
   "codemirror_mode": {
    "name": "ipython",
    "version": 3
   },
   "file_extension": ".py",
   "mimetype": "text/x-python",
   "name": "python",
   "nbconvert_exporter": "python",
   "pygments_lexer": "ipython3",
   "version": "3.9.12"
  }
 },
 "nbformat": 4,
 "nbformat_minor": 5
}
