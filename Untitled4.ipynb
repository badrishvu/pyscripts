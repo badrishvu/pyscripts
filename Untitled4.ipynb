{
 "cells": [
  {
   "cell_type": "code",
   "execution_count": 2,
   "id": "64f99a0a",
   "metadata": {},
   "outputs": [
    {
     "name": "stderr",
     "output_type": "stream",
     "text": [
      "2023-04-21 12:52:15 [scrapy.utils.log] INFO: Scrapy 2.6.1 started (bot: scrapybot)\n",
      "2023-04-21 12:52:15 [scrapy.utils.log] INFO: Versions: lxml 4.8.0.0, libxml2 2.9.12, cssselect 1.1.0, parsel 1.6.0, w3lib 1.21.0, Twisted 22.2.0, Python 3.9.12 (main, Apr  5 2022, 01:53:17) - [Clang 12.0.0 ], pyOpenSSL 21.0.0 (OpenSSL 1.1.1n  15 Mar 2022), cryptography 3.4.8, Platform macOS-10.16-x86_64-i386-64bit\n",
      "2023-04-21 12:52:15 [scrapy.crawler] INFO: Overridden settings:\n",
      "{}\n"
     ]
    },
    {
     "ename": "ReactorAlreadyInstalledError",
     "evalue": "reactor already installed",
     "output_type": "error",
     "traceback": [
      "\u001b[0;31m---------------------------------------------------------------------------\u001b[0m",
      "\u001b[0;31mReactorAlreadyInstalledError\u001b[0m              Traceback (most recent call last)",
      "Input \u001b[0;32mIn [2]\u001b[0m, in \u001b[0;36m<cell line: 37>\u001b[0;34m()\u001b[0m\n\u001b[1;32m     34\u001b[0m                 \u001b[38;5;28mprint\u001b[39m(\u001b[38;5;124m\"\u001b[39m\u001b[38;5;124mNo videos found on the website.\u001b[39m\u001b[38;5;124m\"\u001b[39m)\n\u001b[1;32m     36\u001b[0m process \u001b[38;5;241m=\u001b[39m CrawlerProcess()\n\u001b[0;32m---> 37\u001b[0m \u001b[43mprocess\u001b[49m\u001b[38;5;241;43m.\u001b[39;49m\u001b[43mcrawl\u001b[49m\u001b[43m(\u001b[49m\u001b[43mVideoSpider\u001b[49m\u001b[43m)\u001b[49m\n\u001b[1;32m     38\u001b[0m process\u001b[38;5;241m.\u001b[39mstart()\n",
      "File \u001b[0;32m~/opt/anaconda3/lib/python3.9/site-packages/scrapy/crawler.py:205\u001b[0m, in \u001b[0;36mCrawlerRunner.crawl\u001b[0;34m(self, crawler_or_spidercls, *args, **kwargs)\u001b[0m\n\u001b[1;32m    201\u001b[0m \u001b[38;5;28;01mif\u001b[39;00m \u001b[38;5;28misinstance\u001b[39m(crawler_or_spidercls, Spider):\n\u001b[1;32m    202\u001b[0m     \u001b[38;5;28;01mraise\u001b[39;00m \u001b[38;5;167;01mValueError\u001b[39;00m(\n\u001b[1;32m    203\u001b[0m         \u001b[38;5;124m'\u001b[39m\u001b[38;5;124mThe crawler_or_spidercls argument cannot be a spider object, \u001b[39m\u001b[38;5;124m'\u001b[39m\n\u001b[1;32m    204\u001b[0m         \u001b[38;5;124m'\u001b[39m\u001b[38;5;124mit must be a spider class (or a Crawler object)\u001b[39m\u001b[38;5;124m'\u001b[39m)\n\u001b[0;32m--> 205\u001b[0m crawler \u001b[38;5;241m=\u001b[39m \u001b[38;5;28;43mself\u001b[39;49m\u001b[38;5;241;43m.\u001b[39;49m\u001b[43mcreate_crawler\u001b[49m\u001b[43m(\u001b[49m\u001b[43mcrawler_or_spidercls\u001b[49m\u001b[43m)\u001b[49m\n\u001b[1;32m    206\u001b[0m \u001b[38;5;28;01mreturn\u001b[39;00m \u001b[38;5;28mself\u001b[39m\u001b[38;5;241m.\u001b[39m_crawl(crawler, \u001b[38;5;241m*\u001b[39margs, \u001b[38;5;241m*\u001b[39m\u001b[38;5;241m*\u001b[39mkwargs)\n",
      "File \u001b[0;32m~/opt/anaconda3/lib/python3.9/site-packages/scrapy/crawler.py:238\u001b[0m, in \u001b[0;36mCrawlerRunner.create_crawler\u001b[0;34m(self, crawler_or_spidercls)\u001b[0m\n\u001b[1;32m    236\u001b[0m \u001b[38;5;28;01mif\u001b[39;00m \u001b[38;5;28misinstance\u001b[39m(crawler_or_spidercls, Crawler):\n\u001b[1;32m    237\u001b[0m     \u001b[38;5;28;01mreturn\u001b[39;00m crawler_or_spidercls\n\u001b[0;32m--> 238\u001b[0m \u001b[38;5;28;01mreturn\u001b[39;00m \u001b[38;5;28;43mself\u001b[39;49m\u001b[38;5;241;43m.\u001b[39;49m\u001b[43m_create_crawler\u001b[49m\u001b[43m(\u001b[49m\u001b[43mcrawler_or_spidercls\u001b[49m\u001b[43m)\u001b[49m\n",
      "File \u001b[0;32m~/opt/anaconda3/lib/python3.9/site-packages/scrapy/crawler.py:313\u001b[0m, in \u001b[0;36mCrawlerProcess._create_crawler\u001b[0;34m(self, spidercls)\u001b[0m\n\u001b[1;32m    311\u001b[0m \u001b[38;5;28;01mif\u001b[39;00m \u001b[38;5;28misinstance\u001b[39m(spidercls, \u001b[38;5;28mstr\u001b[39m):\n\u001b[1;32m    312\u001b[0m     spidercls \u001b[38;5;241m=\u001b[39m \u001b[38;5;28mself\u001b[39m\u001b[38;5;241m.\u001b[39mspider_loader\u001b[38;5;241m.\u001b[39mload(spidercls)\n\u001b[0;32m--> 313\u001b[0m \u001b[38;5;28;01mreturn\u001b[39;00m \u001b[43mCrawler\u001b[49m\u001b[43m(\u001b[49m\u001b[43mspidercls\u001b[49m\u001b[43m,\u001b[49m\u001b[43m \u001b[49m\u001b[38;5;28;43mself\u001b[39;49m\u001b[38;5;241;43m.\u001b[39;49m\u001b[43msettings\u001b[49m\u001b[43m,\u001b[49m\u001b[43m \u001b[49m\u001b[43minit_reactor\u001b[49m\u001b[38;5;241;43m=\u001b[39;49m\u001b[38;5;28;43;01mTrue\u001b[39;49;00m\u001b[43m)\u001b[49m\n",
      "File \u001b[0;32m~/opt/anaconda3/lib/python3.9/site-packages/scrapy/crawler.py:82\u001b[0m, in \u001b[0;36mCrawler.__init__\u001b[0;34m(self, spidercls, settings, init_reactor)\u001b[0m\n\u001b[1;32m     80\u001b[0m     \u001b[38;5;28;01melse\u001b[39;00m:\n\u001b[1;32m     81\u001b[0m         \u001b[38;5;28;01mfrom\u001b[39;00m \u001b[38;5;21;01mtwisted\u001b[39;00m\u001b[38;5;21;01m.\u001b[39;00m\u001b[38;5;21;01minternet\u001b[39;00m \u001b[38;5;28;01mimport\u001b[39;00m default\n\u001b[0;32m---> 82\u001b[0m         \u001b[43mdefault\u001b[49m\u001b[38;5;241;43m.\u001b[39;49m\u001b[43minstall\u001b[49m\u001b[43m(\u001b[49m\u001b[43m)\u001b[49m\n\u001b[1;32m     83\u001b[0m     log_reactor_info()\n\u001b[1;32m     84\u001b[0m \u001b[38;5;28;01mif\u001b[39;00m reactor_class:\n",
      "File \u001b[0;32m~/opt/anaconda3/lib/python3.9/site-packages/twisted/internet/selectreactor.py:194\u001b[0m, in \u001b[0;36minstall\u001b[0;34m()\u001b[0m\n\u001b[1;32m    191\u001b[0m reactor \u001b[38;5;241m=\u001b[39m SelectReactor()\n\u001b[1;32m    192\u001b[0m \u001b[38;5;28;01mfrom\u001b[39;00m \u001b[38;5;21;01mtwisted\u001b[39;00m\u001b[38;5;21;01m.\u001b[39;00m\u001b[38;5;21;01minternet\u001b[39;00m\u001b[38;5;21;01m.\u001b[39;00m\u001b[38;5;21;01mmain\u001b[39;00m \u001b[38;5;28;01mimport\u001b[39;00m installReactor\n\u001b[0;32m--> 194\u001b[0m \u001b[43minstallReactor\u001b[49m\u001b[43m(\u001b[49m\u001b[43mreactor\u001b[49m\u001b[43m)\u001b[49m\n",
      "File \u001b[0;32m~/opt/anaconda3/lib/python3.9/site-packages/twisted/internet/main.py:32\u001b[0m, in \u001b[0;36minstallReactor\u001b[0;34m(reactor)\u001b[0m\n\u001b[1;32m     29\u001b[0m \u001b[38;5;28;01mimport\u001b[39;00m \u001b[38;5;21;01mtwisted\u001b[39;00m\u001b[38;5;21;01m.\u001b[39;00m\u001b[38;5;21;01minternet\u001b[39;00m\n\u001b[1;32m     31\u001b[0m \u001b[38;5;28;01mif\u001b[39;00m \u001b[38;5;124m\"\u001b[39m\u001b[38;5;124mtwisted.internet.reactor\u001b[39m\u001b[38;5;124m\"\u001b[39m \u001b[38;5;129;01min\u001b[39;00m sys\u001b[38;5;241m.\u001b[39mmodules:\n\u001b[0;32m---> 32\u001b[0m     \u001b[38;5;28;01mraise\u001b[39;00m error\u001b[38;5;241m.\u001b[39mReactorAlreadyInstalledError(\u001b[38;5;124m\"\u001b[39m\u001b[38;5;124mreactor already installed\u001b[39m\u001b[38;5;124m\"\u001b[39m)\n\u001b[1;32m     33\u001b[0m twisted\u001b[38;5;241m.\u001b[39minternet\u001b[38;5;241m.\u001b[39mreactor \u001b[38;5;241m=\u001b[39m reactor\n\u001b[1;32m     34\u001b[0m sys\u001b[38;5;241m.\u001b[39mmodules[\u001b[38;5;124m\"\u001b[39m\u001b[38;5;124mtwisted.internet.reactor\u001b[39m\u001b[38;5;124m\"\u001b[39m] \u001b[38;5;241m=\u001b[39m reactor\n",
      "\u001b[0;31mReactorAlreadyInstalledError\u001b[0m: reactor already installed"
     ]
    }
   ],
   "source": [
    "import requests\n",
    "from bs4 import BeautifulSoup\n",
    "import scrapy\n",
    "from scrapy.crawler import CrawlerProcess\n",
    "\n",
    "url = \"https://www.gm.com\"  # replace with the URL of the website you want to count videos from\n",
    "\n",
    "class VideoSpider(scrapy.Spider):\n",
    "    name = \"video_spider\"\n",
    "    start_urls = [url]\n",
    "\n",
    "    def parse(self, response):\n",
    "        # Parse the response with BeautifulSoup\n",
    "        soup = BeautifulSoup(response.text, \"html.parser\")\n",
    "\n",
    "        # Find all HTML video elements\n",
    "        videos = soup.find_all(\"video\")\n",
    "\n",
    "        if videos:\n",
    "            # If videos are stored as HTML video elements, count the total number of videos\n",
    "            total_videos = len(videos)\n",
    "            print(f\"Total number of videos on the website: {total_videos}\")\n",
    "        else:\n",
    "            # If videos are not stored as HTML video elements, check if they are stored as links to video files\n",
    "            links = soup.find_all(\"a\")\n",
    "            video_links = [link for link in links if link.get(\"href\") and link.get(\"href\").endswith((\".mp4\", \".avi\", \".mov\"))]\n",
    "\n",
    "            if video_links:\n",
    "                # If videos are stored as links to video files, count the total number of video files\n",
    "                total_videos = len(video_links)\n",
    "                print(f\"Total number of videos on the website: {total_videos}\")\n",
    "            else:\n",
    "                # If videos are not found, print a message\n",
    "                print(\"No videos found on the website.\")\n",
    "\n",
    "process = CrawlerProcess()\n",
    "process.crawl(VideoSpider)\n",
    "process.start()\n"
   ]
  },
  {
   "cell_type": "code",
   "execution_count": null,
   "id": "f9a08f2b",
   "metadata": {},
   "outputs": [],
   "source": []
  },
  {
   "cell_type": "code",
   "execution_count": null,
   "id": "5190e600",
   "metadata": {},
   "outputs": [],
   "source": []
  }
 ],
 "metadata": {
  "kernelspec": {
   "display_name": "Python 3 (ipykernel)",
   "language": "python",
   "name": "python3"
  },
  "language_info": {
   "codemirror_mode": {
    "name": "ipython",
    "version": 3
   },
   "file_extension": ".py",
   "mimetype": "text/x-python",
   "name": "python",
   "nbconvert_exporter": "python",
   "pygments_lexer": "ipython3",
   "version": "3.9.12"
  }
 },
 "nbformat": 4,
 "nbformat_minor": 5
}
